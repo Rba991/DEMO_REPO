{
  "nbformat": 4,
  "nbformat_minor": 0,
  "metadata": {
    "colab": {
      "name": "leap.ipynb",
      "provenance": []
    },
    "kernelspec": {
      "name": "python3",
      "display_name": "Python 3"
    },
    "language_info": {
      "name": "python"
    }
  },
  "cells": [
    {
      "cell_type": "code",
      "metadata": {
        "id": "2AECiKTEEHsN"
      },
      "source": [
        ""
      ],
      "execution_count": null,
      "outputs": []
    },
    {
      "cell_type": "code",
      "metadata": {
        "colab": {
          "base_uri": "https://localhost:8080/"
        },
        "id": "OlTwiX4pC5qB",
        "outputId": "246bd08d-9680-444e-ed6d-19e24ac019a4"
      },
      "source": [
        "year = int(input(\"Enter year to check :\"))\n",
        "if year%100==0:\n",
        "  if year%400==0:\n",
        "    print(\"The year=\",year,\"is a leap year\")\n",
        "elif year%4==0:\n",
        "  print(\"The year=\",year,\"is a leap year\")\n",
        "else:\n",
        "  print(\"The year=\",year,\"is not a leap year\")"
      ],
      "execution_count": 3,
      "outputs": [
        {
          "output_type": "stream",
          "text": [
            "Enter year to check :2018\n",
            "The year= 2018 is not a leap year\n"
          ],
          "name": "stdout"
        }
      ]
    }
  ]
}